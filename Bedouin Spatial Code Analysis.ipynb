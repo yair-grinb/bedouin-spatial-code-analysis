{
 "cells": [
  {
   "cell_type": "code",
   "execution_count": 1,
   "id": "c9ed8659",
   "metadata": {},
   "outputs": [],
   "source": [
    "import geopandas as gpd\n",
    "from shapely.geometry import Polygon\n",
    "from sklearn.cluster import HDBSCAN\n",
    "import numpy as np"
   ]
  },
  {
   "cell_type": "markdown",
   "id": "1ab6f2ce-fc61-4e14-b7a8-6dbdb8454a44",
   "metadata": {},
   "source": [
    "### Input"
   ]
  },
  {
   "cell_type": "code",
   "execution_count": 3,
   "id": "d18591d7",
   "metadata": {},
   "outputs": [],
   "source": [
    "in_path = r'inputs/' # dummy folder for geodata layers\n",
    "\n",
    "# geodata layers\n",
    "bldgs = 'bldgs.shp'\n",
    "claims = 'claims.shp'\n",
    "streams = 'streams.shp'\n",
    "basins = 'basins.shp'\n",
    "shigs = 'shigs.shp'\n",
    "roads = 'roads.shp'\n",
    "\n",
    "# fields in layers\n",
    "claim_id_field = 'claim_id'\n",
    "shig_road_field = 'road_id'\n",
    "road_id_field = 'road_id'\n",
    "bldg_id_field = 'bldg_id'\n",
    "shig_id_field = 'shig_id'"
   ]
  },
  {
   "cell_type": "markdown",
   "id": "e14a227c",
   "metadata": {},
   "source": [
    "### Read data and intersect buildings with claims"
   ]
  },
  {
   "cell_type": "code",
   "execution_count": 5,
   "id": "52db6502",
   "metadata": {},
   "outputs": [],
   "source": [
    "bldgs_gdf = gpd.read_file(in_path+bldgs)\n",
    "claims_gdf = gpd.read_file(in_path+claims)"
   ]
  },
  {
   "cell_type": "code",
   "execution_count": 6,
   "id": "76deeadf",
   "metadata": {},
   "outputs": [],
   "source": [
    "# convert building geometry to centroid and spatial join with claims\n",
    "bldgs_gdf['geometry'] = bldgs_gdf.geometry.centroid\n",
    "bldgs_gdf = bldgs_gdf.sjoin(claims_gdf)"
   ]
  },
  {
   "cell_type": "markdown",
   "id": "e427963b",
   "metadata": {},
   "source": [
    "### Compute mean and std building distance to stream by claim"
   ]
  },
  {
   "cell_type": "code",
   "execution_count": 8,
   "id": "52cf5f59",
   "metadata": {},
   "outputs": [],
   "source": [
    "# compute building distance from streams\n",
    "streams_gdf = gpd.read_file(in_path+streams)\n",
    "bldgs_gdf['Distance from stream'] = bldgs_gdf.geometry.distance(streams_gdf.geometry.union_all())"
   ]
  },
  {
   "cell_type": "code",
   "execution_count": 9,
   "id": "88f0f40d",
   "metadata": {},
   "outputs": [],
   "source": [
    "# comput mean and std distance from streams by claim and filter claims with less than 10 buildings\n",
    "stream_claims = bldgs_gdf.groupby(claim_id_field).agg({'Distance from stream':['count', 'mean', 'std']})\n",
    "stream_claims.columns = stream_claims.columns.droplevel(0)\n",
    "stream_claims = stream_claims.reset_index()\n",
    "stream_claims = stream_claims[stream_claims['count']>=10]"
   ]
  },
  {
   "cell_type": "markdown",
   "id": "642f9e5e",
   "metadata": {},
   "source": [
    "### Compute claim-basin/stream similarity"
   ]
  },
  {
   "cell_type": "code",
   "execution_count": 11,
   "id": "9feedb5a",
   "metadata": {},
   "outputs": [],
   "source": [
    "# create fishnet for claims\n",
    "minX, minY, maxX, maxY = claims_gdf.total_bounds\n",
    "square_size = 10\n",
    "geom_array = []\n",
    "x, y = (minX, minY)\n",
    "while y <= maxY:\n",
    "    while x <= maxX:\n",
    "        geom = Polygon([(x, y), (x, y+square_size), (x+square_size, y+square_size), (x+square_size, y), (x, y)])\n",
    "        geom_array.append(geom)\n",
    "        x += square_size\n",
    "    x = minX\n",
    "    y += square_size\n",
    "    \n",
    "claims_fish = gpd.GeoDataFrame(geom_array, columns=['geometry']).set_crs(claims_gdf.crs)"
   ]
  },
  {
   "cell_type": "code",
   "execution_count": 12,
   "id": "8d7af577",
   "metadata": {},
   "outputs": [],
   "source": [
    "# keep only fishnet cells that intersect claim boundaries\n",
    "claims_gdf['geometry'] = claims_gdf.geometry.boundary\n",
    "claims_fish = claims_fish.sjoin(claims_gdf)"
   ]
  },
  {
   "cell_type": "code",
   "execution_count": 13,
   "id": "2d7a0117",
   "metadata": {},
   "outputs": [],
   "source": [
    "# union basins and streams into a single geometry\n",
    "basins_gdf = gpd.read_file(in_path+basins)\n",
    "basins_gdf['geometry'] = basins_gdf.geometry.boundary\n",
    "basins_gdf = basins_gdf.dissolve()\n",
    "streams_gdf = streams_gdf.dissolve()\n",
    "boundaries_gdf = streams_gdf.union(basins_gdf)"
   ]
  },
  {
   "cell_type": "code",
   "execution_count": 14,
   "id": "8552c96e",
   "metadata": {},
   "outputs": [],
   "source": [
    "# compute cell distance to streams/basin lines and compute average per claim\n",
    "claims_fish['Boundary alignment'] = claims_fish.geometry.distance(boundaries_gdf.geometry.union_all())\n",
    "claims_similarity = claims_fish.groupby(claim_id_field)['Boundary alignment'].mean().reset_index()"
   ]
  },
  {
   "cell_type": "code",
   "execution_count": 15,
   "id": "1a87756f",
   "metadata": {},
   "outputs": [],
   "source": [
    "# merge boundary alignment and stream distances results back into claims data\n",
    "claims_gdf = claims_gdf.merge(claims_similarity, on=claim_id_field)\n",
    "claims_gdf = claims_gdf.merge(stream_claims, on=claim_id_field)\n",
    "claims_gdf.rename(columns={'mean':'Mean stream distance',\n",
    "                          'std': 'Std. stream distance'}, inplace=True)"
   ]
  },
  {
   "cell_type": "markdown",
   "id": "221bee6f",
   "metadata": {},
   "source": [
    "### Shig locations"
   ]
  },
  {
   "cell_type": "code",
   "execution_count": 17,
   "id": "87d6fd38",
   "metadata": {},
   "outputs": [],
   "source": [
    "# read Shig and road data\n",
    "shigs_gdf = gpd.read_file(in_path+shigs)\n",
    "shigs_gdf = shigs_gdf[~shigs_gdf[shig_road_field].isnull()]\n",
    "roads_gdf = gpd.read_file(in_path+roads)"
   ]
  },
  {
   "cell_type": "markdown",
   "id": "455c4077",
   "metadata": {},
   "source": [
    "### Analysis of clusters"
   ]
  },
  {
   "cell_type": "code",
   "execution_count": 19,
   "id": "13ac861c-2a16-43c3-be53-7cda214b5d36",
   "metadata": {},
   "outputs": [],
   "source": [
    "claims_gdf2 = gpd.read_file(in_path+claims)\n",
    "claims_gdf2 = claims_gdf2[claims_gdf2[claim_id_field].isin(claims_gdf[claim_id_field])]"
   ]
  },
  {
   "cell_type": "code",
   "execution_count": 20,
   "id": "306f7337-fa3c-4ac6-9084-faf10098d080",
   "metadata": {},
   "outputs": [],
   "source": [
    "claims_gdf2 = claims_gdf2[claims_gdf2.intersects(shigs_gdf.geometry.union_all())]"
   ]
  },
  {
   "cell_type": "code",
   "execution_count": 21,
   "id": "7b84df90",
   "metadata": {},
   "outputs": [],
   "source": [
    "# cluster buildings\n",
    "claims_with_shigs = claims_gdf[claims_gdf[claim_id_field].isin(claims_gdf2[claim_id_field])][claim_id_field]\n",
    "hds = HDBSCAN(min_cluster_size=4)\n",
    "bldgs_gdf['x'] = bldgs_gdf.geometry.x\n",
    "bldgs_gdf['y'] = bldgs_gdf.geometry.y\n",
    "X = bldgs_gdf[bldgs_gdf[claim_id_field].isin(claims_with_shigs)][['x', 'y']].to_numpy()\n",
    "hds.fit(X)\n",
    "bldgs_gdf.loc[bldgs_gdf[claim_id_field].isin(claims_with_shigs), 'cluster'] = hds.labels_\n",
    "bldgs_gdf.loc[bldgs_gdf[claim_id_field].isin(claims_with_shigs), 'probabilities'] = hds.probabilities_"
   ]
  },
  {
   "cell_type": "code",
   "execution_count": 22,
   "id": "b3e07d2a-6957-4ff8-8ef5-b896f91b4883",
   "metadata": {},
   "outputs": [],
   "source": [
    "# identify each Shig's building, as long as it belongs to a cluster and is no more than 30 m away than the original Shig location\n",
    "shigs_gdf = shigs_gdf.sjoin_nearest(bldgs_gdf.loc[bldgs_gdf.cluster!=-1, [claim_id_field, 'geometry', bldg_id_field]], distance_col='bldg_dist')\n",
    "shigs_gdf = shigs_gdf[shigs_gdf['bldg_dist']<=30]"
   ]
  },
  {
   "cell_type": "code",
   "execution_count": 23,
   "id": "71770539",
   "metadata": {},
   "outputs": [],
   "source": [
    "# identify buildings which are Shigs\n",
    "bldgs_gdf = bldgs_gdf.merge(shigs_gdf[[bldg_id_field, shig_id_field, shig_road_field]], on=bldg_id_field, how='left')\n",
    "bldgs_gdf['Shig'] = 0\n",
    "bldgs_gdf.loc[~bldgs_gdf[shig_id_field].isnull(), 'Shig'] = 1"
   ]
  },
  {
   "cell_type": "code",
   "execution_count": 24,
   "id": "2e817b17",
   "metadata": {},
   "outputs": [
    {
     "name": "stderr",
     "output_type": "stream",
     "text": [
      "C:\\Users\\Owner\\AppData\\Local\\Temp\\ipykernel_18736\\2039099664.py:7: FutureWarning: Setting an item of incompatible dtype is deprecated and will raise an error in a future version of pandas. Value '[18.66571401  9.57262154 27.20045344  0.12653641]' has dtype incompatible with int64, please explicitly cast to a compatible dtype first.\n",
      "  bldgs_gdf.loc[bldgs_gdf.cluster==i, 'road_distance'] = bldgs_gdf[bldgs_gdf.cluster==i].geometry.distance(\n"
     ]
    }
   ],
   "source": [
    "bldgs_gdf['road_distance'] = 1000\n",
    "for i in bldgs_gdf[bldgs_gdf.Shig==1].cluster.unique(): # iterate through clusters\n",
    "    # get the access road for shigs in the cluster\n",
    "    road_idx = bldgs_gdf[(bldgs_gdf.cluster==i) & (bldgs_gdf.Shig==1)][road_id_field].to_numpy()\n",
    "    road = roads_gdf[roads_gdf[road_id_field].isin(road_idx)]\n",
    "    # compute distance of all buildings in the cluster to the road and then their percentile values\n",
    "    bldgs_gdf.loc[bldgs_gdf.cluster==i, 'road_distance'] = bldgs_gdf[bldgs_gdf.cluster==i].geometry.distance(\n",
    "        road.geometry.union_all())\n",
    "    bldgs_gdf.loc[bldgs_gdf.cluster==i, 'Shig road distance ranking'] = bldgs_gdf[bldgs_gdf.cluster==i].road_distance.rank(\n",
    "        pct=True)"
   ]
  },
  {
   "cell_type": "code",
   "execution_count": 25,
   "id": "0ddebe4b",
   "metadata": {
    "scrolled": true
   },
   "outputs": [],
   "source": [
    "# compute mean ranking per claim and merge with claims data\n",
    "claims_shig = bldgs_gdf[bldgs_gdf.Shig==1].groupby(claim_id_field)['Shig road distance ranking'].mean().reset_index()\n",
    "claims_gdf = claims_gdf.merge(claims_shig, on=claim_id_field, how='left')"
   ]
  },
  {
   "cell_type": "markdown",
   "id": "8262c3ab",
   "metadata": {},
   "source": [
    "### Number of shigs per cluster in clusters with shigs"
   ]
  },
  {
   "cell_type": "code",
   "execution_count": 27,
   "id": "0a639ec8-f534-4a3b-a1d8-dd9f50162c4d",
   "metadata": {},
   "outputs": [],
   "source": [
    "claims_with_shigs = bldgs_gdf[bldgs_gdf.Shig==1][claim_id_field].unique() # get claims with shigs\n",
    "# get buildings within these claims\n",
    "bldgs_in_cws = bldgs_gdf[(bldgs_gdf[claim_id_field].isin(claims_with_shigs)) & (bldgs_gdf.cluster!=-1)]\n",
    "# count shigs and clusters per claim\n",
    "shigs_per_cluster = bldgs_in_cws.groupby(claim_id_field).agg({'Shig':'sum', 'cluster':'nunique'}).reset_index()\n",
    "shigs_per_cluster['Shigs per cluster'] = shigs_per_cluster['Shig'] / shigs_per_cluster['cluster'] # shigs to clusters ratio"
   ]
  },
  {
   "cell_type": "code",
   "execution_count": 28,
   "id": "b777a28e-551c-49f8-89e6-a78f157b09d9",
   "metadata": {},
   "outputs": [],
   "source": [
    "# merge with claims data\n",
    "claims_gdf = claims_gdf.merge(shigs_per_cluster[[claim_id_field, 'Shigs per cluster']], on=claim_id_field, how='left')"
   ]
  },
  {
   "cell_type": "code",
   "execution_count": 29,
   "id": "271afd65-0607-49d4-8cb3-cbdd5a6c18bd",
   "metadata": {},
   "outputs": [
    {
     "data": {
      "text/html": [
       "<div>\n",
       "<style scoped>\n",
       "    .dataframe tbody tr th:only-of-type {\n",
       "        vertical-align: middle;\n",
       "    }\n",
       "\n",
       "    .dataframe tbody tr th {\n",
       "        vertical-align: top;\n",
       "    }\n",
       "\n",
       "    .dataframe thead th {\n",
       "        text-align: right;\n",
       "    }\n",
       "</style>\n",
       "<table border=\"1\" class=\"dataframe\">\n",
       "  <thead>\n",
       "    <tr style=\"text-align: right;\">\n",
       "      <th></th>\n",
       "      <th>claim_id</th>\n",
       "      <th>geometry</th>\n",
       "      <th>Boundary alignment</th>\n",
       "      <th>count</th>\n",
       "      <th>Mean stream distance</th>\n",
       "      <th>Std. stream distance</th>\n",
       "      <th>Shig road distance ranking</th>\n",
       "      <th>Shigs per cluster</th>\n",
       "    </tr>\n",
       "  </thead>\n",
       "  <tbody>\n",
       "    <tr>\n",
       "      <th>0</th>\n",
       "      <td>0</td>\n",
       "      <td>LINESTRING (208206.664 569283.333, 208273.331 ...</td>\n",
       "      <td>17.130759</td>\n",
       "      <td>50</td>\n",
       "      <td>42.604167</td>\n",
       "      <td>22.997209</td>\n",
       "      <td>NaN</td>\n",
       "      <td>NaN</td>\n",
       "    </tr>\n",
       "    <tr>\n",
       "      <th>1</th>\n",
       "      <td>3</td>\n",
       "      <td>LINESTRING (198386.665 569640, 198416.665 5696...</td>\n",
       "      <td>13.965853</td>\n",
       "      <td>44</td>\n",
       "      <td>217.660754</td>\n",
       "      <td>101.157860</td>\n",
       "      <td>NaN</td>\n",
       "      <td>NaN</td>\n",
       "    </tr>\n",
       "    <tr>\n",
       "      <th>2</th>\n",
       "      <td>4</td>\n",
       "      <td>LINESTRING (208756.664 569630, 208743.331 5696...</td>\n",
       "      <td>15.945238</td>\n",
       "      <td>42</td>\n",
       "      <td>42.803086</td>\n",
       "      <td>17.795018</td>\n",
       "      <td>NaN</td>\n",
       "      <td>NaN</td>\n",
       "    </tr>\n",
       "    <tr>\n",
       "      <th>3</th>\n",
       "      <td>6</td>\n",
       "      <td>LINESTRING (208259.998 569743.333, 208279.998 ...</td>\n",
       "      <td>13.602447</td>\n",
       "      <td>20</td>\n",
       "      <td>34.220361</td>\n",
       "      <td>21.551309</td>\n",
       "      <td>NaN</td>\n",
       "      <td>NaN</td>\n",
       "    </tr>\n",
       "    <tr>\n",
       "      <th>4</th>\n",
       "      <td>9</td>\n",
       "      <td>LINESTRING (208796.664 570060, 208836.664 5700...</td>\n",
       "      <td>14.878489</td>\n",
       "      <td>18</td>\n",
       "      <td>43.679043</td>\n",
       "      <td>27.009623</td>\n",
       "      <td>NaN</td>\n",
       "      <td>NaN</td>\n",
       "    </tr>\n",
       "    <tr>\n",
       "      <th>...</th>\n",
       "      <td>...</td>\n",
       "      <td>...</td>\n",
       "      <td>...</td>\n",
       "      <td>...</td>\n",
       "      <td>...</td>\n",
       "      <td>...</td>\n",
       "      <td>...</td>\n",
       "      <td>...</td>\n",
       "    </tr>\n",
       "    <tr>\n",
       "      <th>140</th>\n",
       "      <td>339</td>\n",
       "      <td>LINESTRING (207226.664 577806.666, 207229.998 ...</td>\n",
       "      <td>27.851097</td>\n",
       "      <td>48</td>\n",
       "      <td>123.952575</td>\n",
       "      <td>32.248108</td>\n",
       "      <td>0.058824</td>\n",
       "      <td>0.333333</td>\n",
       "    </tr>\n",
       "    <tr>\n",
       "      <th>141</th>\n",
       "      <td>340</td>\n",
       "      <td>LINESTRING (205696.665 577863.332, 205716.665 ...</td>\n",
       "      <td>5.486583</td>\n",
       "      <td>15</td>\n",
       "      <td>78.118206</td>\n",
       "      <td>17.359000</td>\n",
       "      <td>NaN</td>\n",
       "      <td>NaN</td>\n",
       "    </tr>\n",
       "    <tr>\n",
       "      <th>142</th>\n",
       "      <td>342</td>\n",
       "      <td>LINESTRING (203896.665 578139.999, 203896.665 ...</td>\n",
       "      <td>7.700831</td>\n",
       "      <td>66</td>\n",
       "      <td>62.614224</td>\n",
       "      <td>36.947054</td>\n",
       "      <td>0.055556</td>\n",
       "      <td>0.200000</td>\n",
       "    </tr>\n",
       "    <tr>\n",
       "      <th>143</th>\n",
       "      <td>344</td>\n",
       "      <td>LINESTRING (204156.665 578463.332, 204163.331 ...</td>\n",
       "      <td>9.545460</td>\n",
       "      <td>44</td>\n",
       "      <td>53.781632</td>\n",
       "      <td>25.088389</td>\n",
       "      <td>NaN</td>\n",
       "      <td>NaN</td>\n",
       "    </tr>\n",
       "    <tr>\n",
       "      <th>144</th>\n",
       "      <td>349</td>\n",
       "      <td>LINESTRING (205556.665 578929.999, 205596.665 ...</td>\n",
       "      <td>8.314019</td>\n",
       "      <td>154</td>\n",
       "      <td>44.862177</td>\n",
       "      <td>25.510263</td>\n",
       "      <td>0.127886</td>\n",
       "      <td>0.500000</td>\n",
       "    </tr>\n",
       "  </tbody>\n",
       "</table>\n",
       "<p>145 rows × 8 columns</p>\n",
       "</div>"
      ],
      "text/plain": [
       "     claim_id                                           geometry  \\\n",
       "0           0  LINESTRING (208206.664 569283.333, 208273.331 ...   \n",
       "1           3  LINESTRING (198386.665 569640, 198416.665 5696...   \n",
       "2           4  LINESTRING (208756.664 569630, 208743.331 5696...   \n",
       "3           6  LINESTRING (208259.998 569743.333, 208279.998 ...   \n",
       "4           9  LINESTRING (208796.664 570060, 208836.664 5700...   \n",
       "..        ...                                                ...   \n",
       "140       339  LINESTRING (207226.664 577806.666, 207229.998 ...   \n",
       "141       340  LINESTRING (205696.665 577863.332, 205716.665 ...   \n",
       "142       342  LINESTRING (203896.665 578139.999, 203896.665 ...   \n",
       "143       344  LINESTRING (204156.665 578463.332, 204163.331 ...   \n",
       "144       349  LINESTRING (205556.665 578929.999, 205596.665 ...   \n",
       "\n",
       "     Boundary alignment  count  Mean stream distance  Std. stream distance  \\\n",
       "0             17.130759     50             42.604167             22.997209   \n",
       "1             13.965853     44            217.660754            101.157860   \n",
       "2             15.945238     42             42.803086             17.795018   \n",
       "3             13.602447     20             34.220361             21.551309   \n",
       "4             14.878489     18             43.679043             27.009623   \n",
       "..                  ...    ...                   ...                   ...   \n",
       "140           27.851097     48            123.952575             32.248108   \n",
       "141            5.486583     15             78.118206             17.359000   \n",
       "142            7.700831     66             62.614224             36.947054   \n",
       "143            9.545460     44             53.781632             25.088389   \n",
       "144            8.314019    154             44.862177             25.510263   \n",
       "\n",
       "     Shig road distance ranking  Shigs per cluster  \n",
       "0                           NaN                NaN  \n",
       "1                           NaN                NaN  \n",
       "2                           NaN                NaN  \n",
       "3                           NaN                NaN  \n",
       "4                           NaN                NaN  \n",
       "..                          ...                ...  \n",
       "140                    0.058824           0.333333  \n",
       "141                         NaN                NaN  \n",
       "142                    0.055556           0.200000  \n",
       "143                         NaN                NaN  \n",
       "144                    0.127886           0.500000  \n",
       "\n",
       "[145 rows x 8 columns]"
      ]
     },
     "execution_count": 29,
     "metadata": {},
     "output_type": "execute_result"
    }
   ],
   "source": [
    "claims_gdf"
   ]
  },
  {
   "cell_type": "code",
   "execution_count": 30,
   "id": "35b47e4a-f8c2-4697-b05b-dfc1c9098891",
   "metadata": {},
   "outputs": [],
   "source": [
    "# as all other indices show higher similarity when values decrease, use the inverse of the ratio\n",
    "claims_gdf['Shigs per cluster'] = 1 / claims_gdf['Shigs per cluster']"
   ]
  },
  {
   "cell_type": "markdown",
   "id": "01902374",
   "metadata": {},
   "source": [
    "### EWM-TOPSIS"
   ]
  },
  {
   "cell_type": "markdown",
   "id": "88901290",
   "metadata": {},
   "source": [
    "##### EWM"
   ]
  },
  {
   "cell_type": "code",
   "execution_count": 33,
   "id": "da2bbff8",
   "metadata": {},
   "outputs": [],
   "source": [
    "def norm(X): # normalize values to be share of total\n",
    "    return X/X.sum()\n",
    "\n",
    "def EWM(df):\n",
    "    norm_df = df.apply(norm) # normalize all features\n",
    "    \n",
    "    k = -(1/np.log(norm_df.shape[0]))\n",
    "    \n",
    "    def entropy(X): # compute entropy value per feature\n",
    "        return (X*np.log(X)).sum()*k\n",
    "    \n",
    "    entropy = norm_df.apply(entropy) # compute entropy for all features\n",
    "    \n",
    "    #degree of differentiation\n",
    "    dod = 1 - entropy\n",
    "\n",
    "    w = dod/dod.sum() # normalize degree of differentiation = weights\n",
    "    print(w.sort_values(ascending = False))\n",
    "    return w"
   ]
  },
  {
   "cell_type": "markdown",
   "id": "72e13b2f",
   "metadata": {},
   "source": [
    "##### TOPSIS"
   ]
  },
  {
   "cell_type": "code",
   "execution_count": 35,
   "id": "f3fd1c70",
   "metadata": {},
   "outputs": [],
   "source": [
    "def TOPSIS(df, w):\n",
    "    def norm(X): # normalize values as the ratio of value to the sum of squares\n",
    "        return X / np.sqrt((X**2).sum())\n",
    "    \n",
    "    norm_matrix = df.apply(norm)\n",
    "    w_norm_matrix = norm_matrix * w # weight normalized values\n",
    "\n",
    "    # find the minimal value per feature - since high similarity values are minimal values in this case, this is the 'best' solution\n",
    "    V_plus = w_norm_matrix.apply(min) \n",
    "    V_minus = w_norm_matrix.apply(max) # find the maximal value per feature\n",
    "    \n",
    "    S_plus = np.sqrt((w_norm_matrix - V_plus)**2).apply(sum, axis=1) # distance from 'best' solution\n",
    "    S_minus = np.sqrt((w_norm_matrix - V_minus)**2).apply(sum, axis=1) # distance from 'worst' solution\n",
    "    \n",
    "    p_score = S_minus / (S_plus + S_minus) # TOPSIS value\n",
    "    \n",
    "    return p_score.reset_index().rename(columns={0:'Score'})"
   ]
  },
  {
   "cell_type": "markdown",
   "id": "c2ea2dda",
   "metadata": {},
   "source": [
    "##### EWM_TOPSIS without shigs"
   ]
  },
  {
   "cell_type": "code",
   "execution_count": 37,
   "id": "94e3c90b",
   "metadata": {},
   "outputs": [
    {
     "name": "stdout",
     "output_type": "stream",
     "text": [
      "Boundary alignment      0.416419\n",
      "Mean stream distance    0.299467\n",
      "Std. stream distance    0.284115\n",
      "dtype: float64\n"
     ]
    }
   ],
   "source": [
    "df = claims_gdf[[claim_id_field,\n",
    "                 'Mean stream distance',\n",
    "                 'Std. stream distance', \n",
    "                 'Boundary alignment']].set_index(claim_id_field)\n",
    "w = EWM(df)\n",
    "p_score = TOPSIS(df, w)\n",
    "claims_gdf = claims_gdf.merge(p_score, on=claim_id_field, how='left')"
   ]
  },
  {
   "cell_type": "markdown",
   "id": "5b46d61f-bcfd-409b-b766-5ae5df4d151f",
   "metadata": {},
   "source": [
    "##### EWM_TOPSIS without shigs, only claims with shigs"
   ]
  },
  {
   "cell_type": "code",
   "execution_count": 39,
   "id": "8fb62da7-ae4f-4227-abd5-bf6df2070365",
   "metadata": {},
   "outputs": [
    {
     "name": "stdout",
     "output_type": "stream",
     "text": [
      "Boundary alignment      0.588197\n",
      "Mean stream distance    0.232646\n",
      "Std. stream distance    0.179157\n",
      "dtype: float64\n"
     ]
    }
   ],
   "source": [
    "df = claims_gdf[~claims_gdf['Shig road distance ranking'].isnull()][[claim_id_field, \n",
    "                                                           'Mean stream distance',\n",
    "                                                           'Std. stream distance', \n",
    "                                                           'Boundary alignment']].set_index(claim_id_field)\n",
    "w2 = EWM(df)\n",
    "p_score = TOPSIS(df, w2)\n",
    "claims_gdf = claims_gdf.merge(p_score, on=claim_id_field, how='left')"
   ]
  },
  {
   "cell_type": "markdown",
   "id": "f24614ed",
   "metadata": {},
   "source": [
    "##### EWM_TOPSIS with shigs"
   ]
  },
  {
   "cell_type": "code",
   "execution_count": 41,
   "id": "d47a602a",
   "metadata": {},
   "outputs": [
    {
     "name": "stdout",
     "output_type": "stream",
     "text": [
      "Shig road distance ranking    0.322545\n",
      "Boundary alignment            0.262408\n",
      "Shigs per cluster             0.231333\n",
      "Mean stream distance          0.103789\n",
      "Std. stream distance          0.079926\n",
      "dtype: float64\n"
     ]
    }
   ],
   "source": [
    "df = claims_gdf[~claims_gdf['Shig road distance ranking'].isnull()][[claim_id_field, \n",
    "                                                           'Mean stream distance',\n",
    "                                                           'Std. stream distance', \n",
    "                                                           'Boundary alignment',\n",
    "                                                           'Shig road distance ranking',\n",
    "                                                           'Shigs per cluster']].set_index(claim_id_field)\n",
    "w3 = EWM(df)\n",
    "p_score = TOPSIS(df, w3)\n",
    "claims_gdf = claims_gdf.merge(p_score, on=claim_id_field, how='left')"
   ]
  },
  {
   "cell_type": "code",
   "execution_count": 42,
   "id": "45ed3410-16d2-4a3a-bcc8-8bfb7d1192a3",
   "metadata": {},
   "outputs": [
    {
     "data": {
      "text/html": [
       "<div>\n",
       "<style scoped>\n",
       "    .dataframe tbody tr th:only-of-type {\n",
       "        vertical-align: middle;\n",
       "    }\n",
       "\n",
       "    .dataframe tbody tr th {\n",
       "        vertical-align: top;\n",
       "    }\n",
       "\n",
       "    .dataframe thead th {\n",
       "        text-align: right;\n",
       "    }\n",
       "</style>\n",
       "<table border=\"1\" class=\"dataframe\">\n",
       "  <thead>\n",
       "    <tr style=\"text-align: right;\">\n",
       "      <th></th>\n",
       "      <th>Boundary alignment</th>\n",
       "      <th>Mean stream distance</th>\n",
       "      <th>Std. stream distance</th>\n",
       "      <th>Shig road distance ranking</th>\n",
       "      <th>Shigs per cluster</th>\n",
       "      <th>Score</th>\n",
       "      <th>Score_x</th>\n",
       "      <th>Score_y</th>\n",
       "    </tr>\n",
       "  </thead>\n",
       "  <tbody>\n",
       "    <tr>\n",
       "      <th>count</th>\n",
       "      <td>145.000000</td>\n",
       "      <td>145.000000</td>\n",
       "      <td>145.000000</td>\n",
       "      <td>25.000000</td>\n",
       "      <td>25.000000</td>\n",
       "      <td>25.000000</td>\n",
       "      <td>145.000000</td>\n",
       "      <td>25.000000</td>\n",
       "    </tr>\n",
       "    <tr>\n",
       "      <th>mean</th>\n",
       "      <td>17.641716</td>\n",
       "      <td>64.473359</td>\n",
       "      <td>29.741358</td>\n",
       "      <td>0.131685</td>\n",
       "      <td>1.856667</td>\n",
       "      <td>0.716107</td>\n",
       "      <td>0.771373</td>\n",
       "      <td>0.712059</td>\n",
       "    </tr>\n",
       "    <tr>\n",
       "      <th>std</th>\n",
       "      <td>9.789511</td>\n",
       "      <td>31.020754</td>\n",
       "      <td>13.930971</td>\n",
       "      <td>0.098591</td>\n",
       "      <td>1.151569</td>\n",
       "      <td>0.118091</td>\n",
       "      <td>0.125662</td>\n",
       "      <td>0.208052</td>\n",
       "    </tr>\n",
       "    <tr>\n",
       "      <th>min</th>\n",
       "      <td>3.570476</td>\n",
       "      <td>21.672570</td>\n",
       "      <td>9.885717</td>\n",
       "      <td>0.037037</td>\n",
       "      <td>0.500000</td>\n",
       "      <td>0.514431</td>\n",
       "      <td>0.349647</td>\n",
       "      <td>0.192745</td>\n",
       "    </tr>\n",
       "    <tr>\n",
       "      <th>25%</th>\n",
       "      <td>10.591421</td>\n",
       "      <td>44.837732</td>\n",
       "      <td>20.902008</td>\n",
       "      <td>0.055556</td>\n",
       "      <td>1.000000</td>\n",
       "      <td>0.622858</td>\n",
       "      <td>0.731381</td>\n",
       "      <td>0.662871</td>\n",
       "    </tr>\n",
       "    <tr>\n",
       "      <th>50%</th>\n",
       "      <td>15.530716</td>\n",
       "      <td>56.259627</td>\n",
       "      <td>25.715891</td>\n",
       "      <td>0.106061</td>\n",
       "      <td>1.750000</td>\n",
       "      <td>0.682427</td>\n",
       "      <td>0.810325</td>\n",
       "      <td>0.785797</td>\n",
       "    </tr>\n",
       "    <tr>\n",
       "      <th>75%</th>\n",
       "      <td>21.447393</td>\n",
       "      <td>73.834074</td>\n",
       "      <td>34.436259</td>\n",
       "      <td>0.166667</td>\n",
       "      <td>2.000000</td>\n",
       "      <td>0.818959</td>\n",
       "      <td>0.857973</td>\n",
       "      <td>0.837611</td>\n",
       "    </tr>\n",
       "    <tr>\n",
       "      <th>max</th>\n",
       "      <td>61.482733</td>\n",
       "      <td>217.660754</td>\n",
       "      <td>101.157860</td>\n",
       "      <td>0.391949</td>\n",
       "      <td>5.000000</td>\n",
       "      <td>0.891870</td>\n",
       "      <td>0.937263</td>\n",
       "      <td>0.932774</td>\n",
       "    </tr>\n",
       "  </tbody>\n",
       "</table>\n",
       "</div>"
      ],
      "text/plain": [
       "       Boundary alignment  Mean stream distance  Std. stream distance  \\\n",
       "count          145.000000            145.000000            145.000000   \n",
       "mean            17.641716             64.473359             29.741358   \n",
       "std              9.789511             31.020754             13.930971   \n",
       "min              3.570476             21.672570              9.885717   \n",
       "25%             10.591421             44.837732             20.902008   \n",
       "50%             15.530716             56.259627             25.715891   \n",
       "75%             21.447393             73.834074             34.436259   \n",
       "max             61.482733            217.660754            101.157860   \n",
       "\n",
       "       Shig road distance ranking  Shigs per cluster      Score     Score_x  \\\n",
       "count                   25.000000          25.000000  25.000000  145.000000   \n",
       "mean                     0.131685           1.856667   0.716107    0.771373   \n",
       "std                      0.098591           1.151569   0.118091    0.125662   \n",
       "min                      0.037037           0.500000   0.514431    0.349647   \n",
       "25%                      0.055556           1.000000   0.622858    0.731381   \n",
       "50%                      0.106061           1.750000   0.682427    0.810325   \n",
       "75%                      0.166667           2.000000   0.818959    0.857973   \n",
       "max                      0.391949           5.000000   0.891870    0.937263   \n",
       "\n",
       "         Score_y  \n",
       "count  25.000000  \n",
       "mean    0.712059  \n",
       "std     0.208052  \n",
       "min     0.192745  \n",
       "25%     0.662871  \n",
       "50%     0.785797  \n",
       "75%     0.837611  \n",
       "max     0.932774  "
      ]
     },
     "execution_count": 42,
     "metadata": {},
     "output_type": "execute_result"
    }
   ],
   "source": [
    "claims_gdf[['Boundary alignment', 'Mean stream distance', 'Std. stream distance', 'Shig road distance ranking',\n",
    "           'Shigs per cluster', 'Score', 'Score_x', 'Score_y']].describe()"
   ]
  }
 ],
 "metadata": {
  "kernelspec": {
   "display_name": "Python 3 (ipykernel)",
   "language": "python",
   "name": "python3"
  },
  "language_info": {
   "codemirror_mode": {
    "name": "ipython",
    "version": 3
   },
   "file_extension": ".py",
   "mimetype": "text/x-python",
   "name": "python",
   "nbconvert_exporter": "python",
   "pygments_lexer": "ipython3",
   "version": "3.12.7"
  }
 },
 "nbformat": 4,
 "nbformat_minor": 5
}
